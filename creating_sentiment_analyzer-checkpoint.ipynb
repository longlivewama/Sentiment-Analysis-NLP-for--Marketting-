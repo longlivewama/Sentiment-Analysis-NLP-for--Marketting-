{
 "cells": [
  {
   "cell_type": "markdown",
   "metadata": {},
   "source": [
    "# Creating a Dictionary-based Sentiment Analyzer"
   ]
  },
  {
   "cell_type": "code",
   "execution_count": 1,
   "metadata": {},
   "outputs": [],
   "source": [
    "import pandas as pd\n",
    "import nltk\n",
    "from IPython.display import display\n",
    "pd.set_option('display.max_columns', None)"
   ]
  },
  {
   "cell_type": "markdown",
   "metadata": {},
   "source": [
    "### Step 1: Loading in the small_corpus .csv file created in the \"creating_dataset\" milestone."
   ]
  },
  {
   "cell_type": "code",
   "execution_count": 2,
   "metadata": {},
   "outputs": [],
   "source": [
    "reviews = pd.read_csv(\"small_corpus.csv\")"
   ]
  },
  {
   "cell_type": "code",
   "execution_count": 3,
   "metadata": {},
   "outputs": [
    {
     "data": {
      "text/html": [
       "<div>\n",
       "<style scoped>\n",
       "    .dataframe tbody tr th:only-of-type {\n",
       "        vertical-align: middle;\n",
       "    }\n",
       "\n",
       "    .dataframe tbody tr th {\n",
       "        vertical-align: top;\n",
       "    }\n",
       "\n",
       "    .dataframe thead th {\n",
       "        text-align: right;\n",
       "    }\n",
       "</style>\n",
       "<table border=\"1\" class=\"dataframe\">\n",
       "  <thead>\n",
       "    <tr style=\"text-align: right;\">\n",
       "      <th></th>\n",
       "      <th>overall</th>\n",
       "      <th>verified</th>\n",
       "      <th>reviewTime</th>\n",
       "      <th>reviewerID</th>\n",
       "      <th>asin</th>\n",
       "      <th>reviewerName</th>\n",
       "      <th>reviewText</th>\n",
       "      <th>summary</th>\n",
       "      <th>unixReviewTime</th>\n",
       "      <th>vote</th>\n",
       "      <th>style</th>\n",
       "      <th>image</th>\n",
       "    </tr>\n",
       "  </thead>\n",
       "  <tbody>\n",
       "    <tr>\n",
       "      <th>0</th>\n",
       "      <td>1.0</td>\n",
       "      <td>False</td>\n",
       "      <td>02 27, 2002</td>\n",
       "      <td>AAQMWWN5UDJM5</td>\n",
       "      <td>B00005N9CQ</td>\n",
       "      <td>Zorin</td>\n",
       "      <td>This game [stinks].  Don't buy it.  The graphi...</td>\n",
       "      <td>Complete wate of time</td>\n",
       "      <td>1014768000</td>\n",
       "      <td>NaN</td>\n",
       "      <td>NaN</td>\n",
       "      <td>NaN</td>\n",
       "    </tr>\n",
       "    <tr>\n",
       "      <th>1</th>\n",
       "      <td>1.0</td>\n",
       "      <td>True</td>\n",
       "      <td>08 28, 2015</td>\n",
       "      <td>A350SO127HDQSQ</td>\n",
       "      <td>B00O65I2VY</td>\n",
       "      <td>Derrick Black</td>\n",
       "      <td>Doesn't work when connected to PC, as simple a...</td>\n",
       "      <td>Buyer Beware</td>\n",
       "      <td>1440720000</td>\n",
       "      <td>NaN</td>\n",
       "      <td>NaN</td>\n",
       "      <td>NaN</td>\n",
       "    </tr>\n",
       "    <tr>\n",
       "      <th>2</th>\n",
       "      <td>1.0</td>\n",
       "      <td>False</td>\n",
       "      <td>06 26, 2009</td>\n",
       "      <td>A3ERSDUGJX7BGC</td>\n",
       "      <td>B0015RWPWS</td>\n",
       "      <td>PM</td>\n",
       "      <td>I have tried repeatedly to use this in my bala...</td>\n",
       "      <td>Didn't work for me.</td>\n",
       "      <td>1245974400</td>\n",
       "      <td>NaN</td>\n",
       "      <td>NaN</td>\n",
       "      <td>NaN</td>\n",
       "    </tr>\n",
       "    <tr>\n",
       "      <th>3</th>\n",
       "      <td>1.0</td>\n",
       "      <td>False</td>\n",
       "      <td>12 22, 2010</td>\n",
       "      <td>A1PBW0R798CBKR</td>\n",
       "      <td>B002DC8GT0</td>\n",
       "      <td>24joshua15</td>\n",
       "      <td>I know there are some out there who enjoy this...</td>\n",
       "      <td>Bad Advertisement is the Culprit</td>\n",
       "      <td>1292976000</td>\n",
       "      <td>17</td>\n",
       "      <td>NaN</td>\n",
       "      <td>NaN</td>\n",
       "    </tr>\n",
       "    <tr>\n",
       "      <th>4</th>\n",
       "      <td>1.0</td>\n",
       "      <td>True</td>\n",
       "      <td>11 20, 2013</td>\n",
       "      <td>A2VKK5PI79ML1J</td>\n",
       "      <td>B0016NRS8M</td>\n",
       "      <td>Jimmy Hitchcock</td>\n",
       "      <td>This game is completely terrible. There are no...</td>\n",
       "      <td>South peak has done it again...</td>\n",
       "      <td>1384905600</td>\n",
       "      <td>2</td>\n",
       "      <td>{'Platform:': ' Xbox 360'}</td>\n",
       "      <td>NaN</td>\n",
       "    </tr>\n",
       "  </tbody>\n",
       "</table>\n",
       "</div>"
      ],
      "text/plain": [
       "   overall  verified   reviewTime      reviewerID        asin  \\\n",
       "0      1.0     False  02 27, 2002   AAQMWWN5UDJM5  B00005N9CQ   \n",
       "1      1.0      True  08 28, 2015  A350SO127HDQSQ  B00O65I2VY   \n",
       "2      1.0     False  06 26, 2009  A3ERSDUGJX7BGC  B0015RWPWS   \n",
       "3      1.0     False  12 22, 2010  A1PBW0R798CBKR  B002DC8GT0   \n",
       "4      1.0      True  11 20, 2013  A2VKK5PI79ML1J  B0016NRS8M   \n",
       "\n",
       "      reviewerName                                         reviewText  \\\n",
       "0            Zorin  This game [stinks].  Don't buy it.  The graphi...   \n",
       "1    Derrick Black  Doesn't work when connected to PC, as simple a...   \n",
       "2               PM  I have tried repeatedly to use this in my bala...   \n",
       "3       24joshua15  I know there are some out there who enjoy this...   \n",
       "4  Jimmy Hitchcock  This game is completely terrible. There are no...   \n",
       "\n",
       "                            summary  unixReviewTime vote  \\\n",
       "0             Complete wate of time      1014768000  NaN   \n",
       "1                      Buyer Beware      1440720000  NaN   \n",
       "2               Didn't work for me.      1245974400  NaN   \n",
       "3  Bad Advertisement is the Culprit      1292976000   17   \n",
       "4   South peak has done it again...      1384905600    2   \n",
       "\n",
       "                        style image  \n",
       "0                         NaN   NaN  \n",
       "1                         NaN   NaN  \n",
       "2                         NaN   NaN  \n",
       "3                         NaN   NaN  \n",
       "4  {'Platform:': ' Xbox 360'}   NaN  "
      ]
     },
     "execution_count": 3,
     "metadata": {},
     "output_type": "execute_result"
    }
   ],
   "source": [
    "reviews.head()"
   ]
  },
  {
   "cell_type": "markdown",
   "metadata": {},
   "source": [
    "### Step 2: Tokenizing the sentences and words of the reviews\n",
    "Here, We're going to test different versions of word tokenizer on reviews. We'll then decide which tokenizer might be better to use."
   ]
  },
  {
   "cell_type": "markdown",
   "metadata": {},
   "source": [
    "### Treebank Word Tokenizer"
   ]
  },
  {
   "cell_type": "code",
   "execution_count": 4,
   "metadata": {},
   "outputs": [],
   "source": [
    "from nltk.tokenize import TreebankWordTokenizer\n",
    "from string import punctuation\n",
    "import string"
   ]
  },
  {
   "cell_type": "code",
   "execution_count": 5,
   "metadata": {},
   "outputs": [],
   "source": [
    "tb_tokenizer = TreebankWordTokenizer()"
   ]
  },
  {
   "cell_type": "code",
   "execution_count": 6,
   "metadata": {},
   "outputs": [],
   "source": [
    "reviews[\"rev_text_lower\"] = reviews['reviewText'].apply(lambda rev: str(rev)\\\n",
    "                                                        .translate(str.maketrans('', '', punctuation))\\\n",
    "                                                        .replace(\"<br />\", \" \")\\\n",
    "                                                        .lower())"
   ]
  },
  {
   "cell_type": "code",
   "execution_count": 7,
   "metadata": {},
   "outputs": [
    {
     "data": {
      "text/html": [
       "<div>\n",
       "<style scoped>\n",
       "    .dataframe tbody tr th:only-of-type {\n",
       "        vertical-align: middle;\n",
       "    }\n",
       "\n",
       "    .dataframe tbody tr th {\n",
       "        vertical-align: top;\n",
       "    }\n",
       "\n",
       "    .dataframe thead th {\n",
       "        text-align: right;\n",
       "    }\n",
       "</style>\n",
       "<table border=\"1\" class=\"dataframe\">\n",
       "  <thead>\n",
       "    <tr style=\"text-align: right;\">\n",
       "      <th></th>\n",
       "      <th>reviewText</th>\n",
       "      <th>rev_text_lower</th>\n",
       "    </tr>\n",
       "  </thead>\n",
       "  <tbody>\n",
       "    <tr>\n",
       "      <th>1956</th>\n",
       "      <td>This was a dumb game. Did not like it at all.....</td>\n",
       "      <td>this was a dumb game did not like it at allsav...</td>\n",
       "    </tr>\n",
       "    <tr>\n",
       "      <th>235</th>\n",
       "      <td>did not meet expectations</td>\n",
       "      <td>did not meet expectations</td>\n",
       "    </tr>\n",
       "  </tbody>\n",
       "</table>\n",
       "</div>"
      ],
      "text/plain": [
       "                                             reviewText  \\\n",
       "1956  This was a dumb game. Did not like it at all.....   \n",
       "235                           did not meet expectations   \n",
       "\n",
       "                                         rev_text_lower  \n",
       "1956  this was a dumb game did not like it at allsav...  \n",
       "235                           did not meet expectations  "
      ]
     },
     "execution_count": 7,
     "metadata": {},
     "output_type": "execute_result"
    }
   ],
   "source": [
    "reviews[['reviewText','rev_text_lower']].sample(2)"
   ]
  },
  {
   "cell_type": "code",
   "execution_count": 8,
   "metadata": {},
   "outputs": [],
   "source": [
    "reviews[\"tb_tokens\"] = reviews['rev_text_lower'].apply(lambda rev: tb_tokenizer.tokenize(str(rev)))"
   ]
  },
  {
   "cell_type": "code",
   "execution_count": 9,
   "metadata": {},
   "outputs": [],
   "source": [
    "pd.set_option('display.max_colwidth', None)"
   ]
  },
  {
   "cell_type": "code",
   "execution_count": 10,
   "metadata": {},
   "outputs": [
    {
     "data": {
      "text/html": [
       "<div>\n",
       "<style scoped>\n",
       "    .dataframe tbody tr th:only-of-type {\n",
       "        vertical-align: middle;\n",
       "    }\n",
       "\n",
       "    .dataframe tbody tr th {\n",
       "        vertical-align: top;\n",
       "    }\n",
       "\n",
       "    .dataframe thead th {\n",
       "        text-align: right;\n",
       "    }\n",
       "</style>\n",
       "<table border=\"1\" class=\"dataframe\">\n",
       "  <thead>\n",
       "    <tr style=\"text-align: right;\">\n",
       "      <th></th>\n",
       "      <th>reviewText</th>\n",
       "      <th>tb_tokens</th>\n",
       "    </tr>\n",
       "  </thead>\n",
       "  <tbody>\n",
       "    <tr>\n",
       "      <th>3310</th>\n",
       "      <td>There are a lot of reviews here, so I'll just hit a few highs, plus a low or two.  This refers to the PS3 version.\\n\\nI've played a lot of shooter and survival games, but Dead Space adds some great twists that make it fresh and exciting.\\n\\nFirst, fighting tactics.  As others have said, you don't go for the usual head or torso shots, you go for the limbs.  This is great fun.\\n\\nSecond, the graphics.  Absolutely gorgeous and faultlessly detailed.  No render errors, no load snags, no frame rate problems.  None.  And no constant reuse of pipes, walls, etc. except where it's appropriate for them to look the same as another spot.\\n\\nThird, environment and sound.  You're kept on your toes by the creepy atmosphere and the sound is fantastic.  Distant clangs, soft nearby noises and other sounds constantly keep you wondering if there's a baddie behind the next corner.\\n\\nFourth, realism.  There are many zero G areas where you have to leap from surface to surface (your boots are magnetic).  These are challenging but not annoying and add a nice twist.  There are also areas where there is no atmosphere and you have to watch your air supply closely.\\n\\nFifth, perspective.  For the first time, your health and your suit's special power meters are on the back of your suit itself, not in a corner of the screen.  The over-the-shoulder perspective is nicely judged - you're not so close to yourself that you can't around, but far enough back to get a good, wide view.  Your body does block a part of the left half of the screen, but I've never found this a problem.\\n\\nThe not so good?  Mainly two things that are far from a killjoy but could have been better.\\n\\nOne, the on-screen displays when you view your \"rig\" inventory, the map, and text logs you collect have absolutely puny text.  They're almost impossible to read on a 34-inch conventional TV using the 3-prong high-quality video (not hi-def).\\n\\nTwo, you upgrade your weapons and suit powers at \"benches\" using \"nodes\" you collect along the way.  Both the nodes and benches are few and far between, so you don't get to upgrade as much as you'd like.\\n\\nThat's it.  Dead Space is simply the best game I've played on the PS3, and possibly the best ever.  It's richly detailed in every possible respect, brings fresh ideas to the 3rd-person shooter experience, and has no functional flaws and no real controller-throwing frustrations.\\n\\nAbsolutely highly recommended!</td>\n",
       "      <td>[there, are, a, lot, of, reviews, here, so, ill, just, hit, a, few, highs, plus, a, low, or, two, this, refers, to, the, ps3, version, ive, played, a, lot, of, shooter, and, survival, games, but, dead, space, adds, some, great, twists, that, make, it, fresh, and, exciting, first, fighting, tactics, as, others, have, said, you, dont, go, for, the, usual, head, or, torso, shots, you, go, for, the, limbs, this, is, great, fun, second, the, graphics, absolutely, gorgeous, and, faultlessly, detailed, no, render, errors, no, load, snags, no, frame, rate, problems, none, and, no, constant, reuse, of, pipes, walls, etc, ...]</td>\n",
       "    </tr>\n",
       "    <tr>\n",
       "      <th>2676</th>\n",
       "      <td>does exactly what its supposed too, and cheaper then getting a wired controller to use for your pc games that want a 360 controller.  (like all of the lego games)</td>\n",
       "      <td>[does, exactly, what, its, supposed, too, and, cheaper, then, getting, a, wired, controller, to, use, for, your, pc, games, that, want, a, 360, controller, like, all, of, the, lego, games]</td>\n",
       "    </tr>\n",
       "    <tr>\n",
       "      <th>193</th>\n",
       "      <td>This might be a great game, no way to tell. Cant get it to run. Error 12. Did as the website said, NO JOY. Submitted a ticket, 1 to 2 days response time. Forget it. Sending it back. Dont waste your time\\nAmazon gave a full refund they are the best:-)</td>\n",
       "      <td>[this, might, be, a, great, game, no, way, to, tell, cant, get, it, to, run, error, 12, did, as, the, website, said, no, joy, submitted, a, ticket, 1, to, 2, days, response, time, forget, it, sending, it, back, dont, waste, your, time, amazon, gave, a, full, refund, they, are, the, best]</td>\n",
       "    </tr>\n",
       "  </tbody>\n",
       "</table>\n",
       "</div>"
      ],
      "text/plain": [
       "                                                                                                                                                                                                                                                                                                                                                                                                                                                                                                                                                                                                                                                                                                                                                                                                                                                                                                                                                                                                                                                                                                                                                                                                                                                                                                                                                                                                                                                                                                                                                                                                                                                                                                                                                                                                                                                                                                                                                                                                                                                                                                                                                                                                                                                                                                                                                                                                                                                                                                                          reviewText  \\\n",
       "3310  There are a lot of reviews here, so I'll just hit a few highs, plus a low or two.  This refers to the PS3 version.\\n\\nI've played a lot of shooter and survival games, but Dead Space adds some great twists that make it fresh and exciting.\\n\\nFirst, fighting tactics.  As others have said, you don't go for the usual head or torso shots, you go for the limbs.  This is great fun.\\n\\nSecond, the graphics.  Absolutely gorgeous and faultlessly detailed.  No render errors, no load snags, no frame rate problems.  None.  And no constant reuse of pipes, walls, etc. except where it's appropriate for them to look the same as another spot.\\n\\nThird, environment and sound.  You're kept on your toes by the creepy atmosphere and the sound is fantastic.  Distant clangs, soft nearby noises and other sounds constantly keep you wondering if there's a baddie behind the next corner.\\n\\nFourth, realism.  There are many zero G areas where you have to leap from surface to surface (your boots are magnetic).  These are challenging but not annoying and add a nice twist.  There are also areas where there is no atmosphere and you have to watch your air supply closely.\\n\\nFifth, perspective.  For the first time, your health and your suit's special power meters are on the back of your suit itself, not in a corner of the screen.  The over-the-shoulder perspective is nicely judged - you're not so close to yourself that you can't around, but far enough back to get a good, wide view.  Your body does block a part of the left half of the screen, but I've never found this a problem.\\n\\nThe not so good?  Mainly two things that are far from a killjoy but could have been better.\\n\\nOne, the on-screen displays when you view your \"rig\" inventory, the map, and text logs you collect have absolutely puny text.  They're almost impossible to read on a 34-inch conventional TV using the 3-prong high-quality video (not hi-def).\\n\\nTwo, you upgrade your weapons and suit powers at \"benches\" using \"nodes\" you collect along the way.  Both the nodes and benches are few and far between, so you don't get to upgrade as much as you'd like.\\n\\nThat's it.  Dead Space is simply the best game I've played on the PS3, and possibly the best ever.  It's richly detailed in every possible respect, brings fresh ideas to the 3rd-person shooter experience, and has no functional flaws and no real controller-throwing frustrations.\\n\\nAbsolutely highly recommended!   \n",
       "2676                                                                                                                                                                                                                                                                                                                                                                                                                                                                                                                                                                                                                                                                                                                                                                                                                                                                                                                                                                                                                                                                                                                                                                                                                                                                                                                                                                                                                                                                                                                                                                                                                                                                                                                                                                                                                                                                                                                                                                                                                                                                                                                                                                                                                                                                                                                                                              does exactly what its supposed too, and cheaper then getting a wired controller to use for your pc games that want a 360 controller.  (like all of the lego games)   \n",
       "193                                                                                                                                                                                                                                                                                                                                                                                                                                                                                                                                                                                                                                                                                                                                                                                                                                                                                                                                                                                                                                                                                                                                                                                                                                                                                                                                                                                                                                                                                                                                                                                                                                                                                                                                                                                                                                                                                                                                                                                                                                                                                                                                                                                                                                                                       This might be a great game, no way to tell. Cant get it to run. Error 12. Did as the website said, NO JOY. Submitted a ticket, 1 to 2 days response time. Forget it. Sending it back. Dont waste your time\\nAmazon gave a full refund they are the best:-)   \n",
       "\n",
       "                                                                                                                                                                                                                                                                                                                                                                                                                                                                                                                                                                                                                                             tb_tokens  \n",
       "3310  [there, are, a, lot, of, reviews, here, so, ill, just, hit, a, few, highs, plus, a, low, or, two, this, refers, to, the, ps3, version, ive, played, a, lot, of, shooter, and, survival, games, but, dead, space, adds, some, great, twists, that, make, it, fresh, and, exciting, first, fighting, tactics, as, others, have, said, you, dont, go, for, the, usual, head, or, torso, shots, you, go, for, the, limbs, this, is, great, fun, second, the, graphics, absolutely, gorgeous, and, faultlessly, detailed, no, render, errors, no, load, snags, no, frame, rate, problems, none, and, no, constant, reuse, of, pipes, walls, etc, ...]  \n",
       "2676                                                                                                                                                                                                                                                                                                                                                                                                                                                      [does, exactly, what, its, supposed, too, and, cheaper, then, getting, a, wired, controller, to, use, for, your, pc, games, that, want, a, 360, controller, like, all, of, the, lego, games]  \n",
       "193                                                                                                                                                                                                                                                                                                                                                   [this, might, be, a, great, game, no, way, to, tell, cant, get, it, to, run, error, 12, did, as, the, website, said, no, joy, submitted, a, ticket, 1, to, 2, days, response, time, forget, it, sending, it, back, dont, waste, your, time, amazon, gave, a, full, refund, they, are, the, best]  "
      ]
     },
     "execution_count": 10,
     "metadata": {},
     "output_type": "execute_result"
    }
   ],
   "source": [
    "reviews[['reviewText','tb_tokens']].sample(3)"
   ]
  },
  {
   "cell_type": "markdown",
   "metadata": {},
   "source": [
    "### Casual Tokenizer"
   ]
  },
  {
   "cell_type": "code",
   "execution_count": 11,
   "metadata": {},
   "outputs": [],
   "source": [
    "from nltk.tokenize.casual import casual_tokenize"
   ]
  },
  {
   "cell_type": "code",
   "execution_count": 12,
   "metadata": {},
   "outputs": [],
   "source": [
    "reviews['casual_tokens'] = reviews['rev_text_lower'].apply(lambda rev: casual_tokenize(str(rev)))"
   ]
  },
  {
   "cell_type": "code",
   "execution_count": 13,
   "metadata": {},
   "outputs": [
    {
     "data": {
      "text/html": [
       "<div>\n",
       "<style scoped>\n",
       "    .dataframe tbody tr th:only-of-type {\n",
       "        vertical-align: middle;\n",
       "    }\n",
       "\n",
       "    .dataframe tbody tr th {\n",
       "        vertical-align: top;\n",
       "    }\n",
       "\n",
       "    .dataframe thead th {\n",
       "        text-align: right;\n",
       "    }\n",
       "</style>\n",
       "<table border=\"1\" class=\"dataframe\">\n",
       "  <thead>\n",
       "    <tr style=\"text-align: right;\">\n",
       "      <th></th>\n",
       "      <th>reviewText</th>\n",
       "      <th>casual_tokens</th>\n",
       "      <th>tb_tokens</th>\n",
       "    </tr>\n",
       "  </thead>\n",
       "  <tbody>\n",
       "    <tr>\n",
       "      <th>4215</th>\n",
       "      <td>Fast shipment, once we received our product, we inserted it into our N64 and were playing Mario Cart in no time!</td>\n",
       "      <td>[fast, shipment, once, we, received, our, product, we, inserted, it, into, our, n64, and, were, playing, mario, cart, in, no, time]</td>\n",
       "      <td>[fast, shipment, once, we, received, our, product, we, inserted, it, into, our, n64, and, were, playing, mario, cart, in, no, time]</td>\n",
       "    </tr>\n",
       "    <tr>\n",
       "      <th>2914</th>\n",
       "      <td>I really enjoyed playing this game...The graphics and the music is really cool...there are a lot of different things that you can do on this game...play this game for sure.</td>\n",
       "      <td>[i, really, enjoyed, playing, this, gamethe, graphics, and, the, music, is, really, coolthere, are, a, lot, of, different, things, that, you, can, do, on, this, gameplay, this, game, for, sure]</td>\n",
       "      <td>[i, really, enjoyed, playing, this, gamethe, graphics, and, the, music, is, really, coolthere, are, a, lot, of, different, things, that, you, can, do, on, this, gameplay, this, game, for, sure]</td>\n",
       "    </tr>\n",
       "    <tr>\n",
       "      <th>4425</th>\n",
       "      <td>OF COURSE I HAVE THIS WHOLE SERIES... I PLAYED MY FIRST COPY OF GEARS 2 SO MUCH THAT THE DISK STOPPED BEING ABLE TO BE READ WHICH IS THE REASON WHY I BOUGHT THIS COPY... AS SOON AS I CAN DRAG MYSELF AWAY FROM PART 3 I WILL DEFINITELY GET BACK INTO PLAYING PART 2</td>\n",
       "      <td>[of, course, i, have, this, whole, series, i, played, my, first, copy, of, gears, 2, so, much, that, the, disk, stopped, being, able, to, be, read, which, is, the, reason, why, i, bought, this, copy, as, soon, as, i, can, drag, myself, away, from, part, 3, i, will, definitely, get, back, into, playing, part, 2]</td>\n",
       "      <td>[of, course, i, have, this, whole, series, i, played, my, first, copy, of, gears, 2, so, much, that, the, disk, stopped, being, able, to, be, read, which, is, the, reason, why, i, bought, this, copy, as, soon, as, i, can, drag, myself, away, from, part, 3, i, will, definitely, get, back, into, playing, part, 2]</td>\n",
       "    </tr>\n",
       "  </tbody>\n",
       "</table>\n",
       "</div>"
      ],
      "text/plain": [
       "                                                                                                                                                                                                                                                                  reviewText  \\\n",
       "4215                                                                                                                                                        Fast shipment, once we received our product, we inserted it into our N64 and were playing Mario Cart in no time!   \n",
       "2914                                                                                            I really enjoyed playing this game...The graphics and the music is really cool...there are a lot of different things that you can do on this game...play this game for sure.   \n",
       "4425  OF COURSE I HAVE THIS WHOLE SERIES... I PLAYED MY FIRST COPY OF GEARS 2 SO MUCH THAT THE DISK STOPPED BEING ABLE TO BE READ WHICH IS THE REASON WHY I BOUGHT THIS COPY... AS SOON AS I CAN DRAG MYSELF AWAY FROM PART 3 I WILL DEFINITELY GET BACK INTO PLAYING PART 2   \n",
       "\n",
       "                                                                                                                                                                                                                                                                                                                 casual_tokens  \\\n",
       "4215                                                                                                                                                                                       [fast, shipment, once, we, received, our, product, we, inserted, it, into, our, n64, and, were, playing, mario, cart, in, no, time]   \n",
       "2914                                                                                                                         [i, really, enjoyed, playing, this, gamethe, graphics, and, the, music, is, really, coolthere, are, a, lot, of, different, things, that, you, can, do, on, this, gameplay, this, game, for, sure]   \n",
       "4425  [of, course, i, have, this, whole, series, i, played, my, first, copy, of, gears, 2, so, much, that, the, disk, stopped, being, able, to, be, read, which, is, the, reason, why, i, bought, this, copy, as, soon, as, i, can, drag, myself, away, from, part, 3, i, will, definitely, get, back, into, playing, part, 2]   \n",
       "\n",
       "                                                                                                                                                                                                                                                                                                                     tb_tokens  \n",
       "4215                                                                                                                                                                                       [fast, shipment, once, we, received, our, product, we, inserted, it, into, our, n64, and, were, playing, mario, cart, in, no, time]  \n",
       "2914                                                                                                                         [i, really, enjoyed, playing, this, gamethe, graphics, and, the, music, is, really, coolthere, are, a, lot, of, different, things, that, you, can, do, on, this, gameplay, this, game, for, sure]  \n",
       "4425  [of, course, i, have, this, whole, series, i, played, my, first, copy, of, gears, 2, so, much, that, the, disk, stopped, being, able, to, be, read, which, is, the, reason, why, i, bought, this, copy, as, soon, as, i, can, drag, myself, away, from, part, 3, i, will, definitely, get, back, into, playing, part, 2]  "
      ]
     },
     "execution_count": 13,
     "metadata": {},
     "output_type": "execute_result"
    }
   ],
   "source": [
    "reviews[['reviewText','casual_tokens','tb_tokens']].sample(3)"
   ]
  },
  {
   "cell_type": "markdown",
   "metadata": {},
   "source": [
    "# Casual tokenization handles informal text elements like contractions, emojis, hashtags, and mentions more effectively, making it better suited for social media content.\n"
   ]
  },
  {
   "cell_type": "markdown",
   "metadata": {},
   "source": [
    "### Removing StopWords\n",
    "This part has been remvoed as removing stop words is not good for sentiment analysis at all!!"
   ]
  },
  {
   "cell_type": "code",
   "execution_count": 14,
   "metadata": {},
   "outputs": [],
   "source": [
    "#nltk.download('stopwords')"
   ]
  },
  {
   "cell_type": "code",
   "execution_count": 15,
   "metadata": {},
   "outputs": [],
   "source": [
    "#stop_words = nltk.corpus.stopwords.words('english')"
   ]
  },
  {
   "cell_type": "code",
   "execution_count": 16,
   "metadata": {},
   "outputs": [],
   "source": [
    "#stop_words.remove(\"no\")"
   ]
  },
  {
   "cell_type": "code",
   "execution_count": 17,
   "metadata": {},
   "outputs": [],
   "source": [
    "#stop_words.remove(\"not\")"
   ]
  },
  {
   "cell_type": "code",
   "execution_count": 18,
   "metadata": {},
   "outputs": [],
   "source": [
    "#print(stop_words)"
   ]
  },
  {
   "cell_type": "code",
   "execution_count": 19,
   "metadata": {},
   "outputs": [],
   "source": [
    "#\"not\" in stop_words"
   ]
  },
  {
   "cell_type": "code",
   "execution_count": 20,
   "metadata": {},
   "outputs": [],
   "source": [
    "#len(stop_words)"
   ]
  },
  {
   "cell_type": "code",
   "execution_count": 21,
   "metadata": {},
   "outputs": [],
   "source": [
    "#from string import punctuation\n",
    "#print(punctuation)"
   ]
  },
  {
   "cell_type": "code",
   "execution_count": 22,
   "metadata": {},
   "outputs": [],
   "source": [
    "#reviews['tokens_nosw'] = reviews['tb_tokens'].\\\n",
    "#    apply(lambda words: [w for w in words if w not in stop_words and w not in punctuation and w != \"\"])"
   ]
  },
  {
   "cell_type": "code",
   "execution_count": 23,
   "metadata": {},
   "outputs": [],
   "source": [
    "#reviews[['tb_tokens','tokens_nosw']].sample(3)"
   ]
  },
  {
   "cell_type": "markdown",
   "metadata": {},
   "source": [
    "### Stemming"
   ]
  },
  {
   "cell_type": "markdown",
   "metadata": {},
   "source": [
    " Stemming reduces words to their root form by removing suffixes and prefixes.\n",
    " This helps to group different forms of a word (e.g., \"playing\", \"played\", \"plays\") under a common base (\"play\").\n",
    " Here, the PorterStemmer is used to stem each token in the reviews,\n",
    " which can improve generalization in text analysis by treating related words as the same.\n"
   ]
  },
  {
   "cell_type": "markdown",
   "metadata": {},
   "source": [
    "from nltk.stem.porter import PorterStemmer"
   ]
  },
  {
   "cell_type": "code",
   "execution_count": 25,
   "metadata": {},
   "outputs": [],
   "source": [
    "stemmer = PorterStemmer()"
   ]
  },
  {
   "cell_type": "code",
   "execution_count": 26,
   "metadata": {},
   "outputs": [],
   "source": [
    "reviews['tokens_stemmed'] = reviews['tb_tokens'].apply(lambda words: [stemmer.stem(w) for w in words])"
   ]
  },
  {
   "cell_type": "code",
   "execution_count": 27,
   "metadata": {},
   "outputs": [
    {
     "data": {
      "text/html": [
       "<div>\n",
       "<style scoped>\n",
       "    .dataframe tbody tr th:only-of-type {\n",
       "        vertical-align: middle;\n",
       "    }\n",
       "\n",
       "    .dataframe tbody tr th {\n",
       "        vertical-align: top;\n",
       "    }\n",
       "\n",
       "    .dataframe thead th {\n",
       "        text-align: right;\n",
       "    }\n",
       "</style>\n",
       "<table border=\"1\" class=\"dataframe\">\n",
       "  <thead>\n",
       "    <tr style=\"text-align: right;\">\n",
       "      <th></th>\n",
       "      <th>tb_tokens</th>\n",
       "      <th>tokens_stemmed</th>\n",
       "    </tr>\n",
       "  </thead>\n",
       "  <tbody>\n",
       "    <tr>\n",
       "      <th>3325</th>\n",
       "      <td>[does, the, job]</td>\n",
       "      <td>[doe, the, job]</td>\n",
       "    </tr>\n",
       "    <tr>\n",
       "      <th>3182</th>\n",
       "      <td>[great, fast, services]</td>\n",
       "      <td>[great, fast, servic]</td>\n",
       "    </tr>\n",
       "    <tr>\n",
       "      <th>1747</th>\n",
       "      <td>[i, initially, had, high, hopes, for, this, game, but, after, playing, through, the, single, player, mode, which, is, tiny, and, playing, the, online, game, for, a, while, this, game, just, isnt, up, to, the, standards, halo, 2, created, although, i, loved, halo, 2, i, grew, weary, of, the, cheaters, and, lack, of, maps, that, it, continues, to, offer, at, least, until, it, is, patched, project, snowblinds, online, component, is, a, mix, between, halo2, and, rainbow, six, 3, black, arrow, the, graphics, are, similar, to, rainbow, six, and, so, is, the, set, up, so, if, you, liked, it, then, you, would, ...]</td>\n",
       "      <td>[i, initi, had, high, hope, for, thi, game, but, after, play, through, the, singl, player, mode, which, is, tini, and, play, the, onlin, game, for, a, while, thi, game, just, isnt, up, to, the, standard, halo, 2, creat, although, i, love, halo, 2, i, grew, weari, of, the, cheater, and, lack, of, map, that, it, continu, to, offer, at, least, until, it, is, patch, project, snowblind, onlin, compon, is, a, mix, between, halo2, and, rainbow, six, 3, black, arrow, the, graphic, are, similar, to, rainbow, six, and, so, is, the, set, up, so, if, you, like, it, then, you, would, ...]</td>\n",
       "    </tr>\n",
       "  </tbody>\n",
       "</table>\n",
       "</div>"
      ],
      "text/plain": [
       "                                                                                                                                                                                                                                                                                                                                                                                                                                                                                                                                                                                                                                   tb_tokens  \\\n",
       "3325                                                                                                                                                                                                                                                                                                                                                                                                                                                                                                                                                                                                                        [does, the, job]   \n",
       "3182                                                                                                                                                                                                                                                                                                                                                                                                                                                                                                                                                                                                                 [great, fast, services]   \n",
       "1747  [i, initially, had, high, hopes, for, this, game, but, after, playing, through, the, single, player, mode, which, is, tiny, and, playing, the, online, game, for, a, while, this, game, just, isnt, up, to, the, standards, halo, 2, created, although, i, loved, halo, 2, i, grew, weary, of, the, cheaters, and, lack, of, maps, that, it, continues, to, offer, at, least, until, it, is, patched, project, snowblinds, online, component, is, a, mix, between, halo2, and, rainbow, six, 3, black, arrow, the, graphics, are, similar, to, rainbow, six, and, so, is, the, set, up, so, if, you, liked, it, then, you, would, ...]   \n",
       "\n",
       "                                                                                                                                                                                                                                                                                                                                                                                                                                                                                                                                                                                              tokens_stemmed  \n",
       "3325                                                                                                                                                                                                                                                                                                                                                                                                                                                                                                                                                                                         [doe, the, job]  \n",
       "3182                                                                                                                                                                                                                                                                                                                                                                                                                                                                                                                                                                                   [great, fast, servic]  \n",
       "1747  [i, initi, had, high, hope, for, thi, game, but, after, play, through, the, singl, player, mode, which, is, tini, and, play, the, onlin, game, for, a, while, thi, game, just, isnt, up, to, the, standard, halo, 2, creat, although, i, love, halo, 2, i, grew, weari, of, the, cheater, and, lack, of, map, that, it, continu, to, offer, at, least, until, it, is, patch, project, snowblind, onlin, compon, is, a, mix, between, halo2, and, rainbow, six, 3, black, arrow, the, graphic, are, similar, to, rainbow, six, and, so, is, the, set, up, so, if, you, like, it, then, you, would, ...]  "
      ]
     },
     "execution_count": 27,
     "metadata": {},
     "output_type": "execute_result"
    }
   ],
   "source": [
    "reviews[['tb_tokens','tokens_stemmed']].sample(3)"
   ]
  },
  {
   "cell_type": "markdown",
   "metadata": {},
   "source": [
    "### Lemmatisation"
   ]
  },
  {
   "cell_type": "markdown",
   "metadata": {},
   "source": [
    "Lemmatization changes words to their correct base form based on their part of speech (like noun, verb, adjective). This makes text analysis more accurate than stemming. It first finds the word’s type, then gets the proper root form. The result is a list of words in their proper base form in the ‘lemmas’ column.\n",
    " "
   ]
  },
  {
   "cell_type": "code",
   "execution_count": 28,
   "metadata": {},
   "outputs": [],
   "source": [
    "from nltk.stem import WordNetLemmatizer\n",
    "from nltk.corpus import wordnet as wn\n",
    "from nltk.corpus import sentiwordnet as swn\n",
    "from nltk import sent_tokenize, word_tokenize, pos_tag"
   ]
  },
  {
   "cell_type": "code",
   "execution_count": 29,
   "metadata": {},
   "outputs": [],
   "source": [
    "def penn_to_wn(tag):\n",
    "    \"\"\"\n",
    "        Convert between the PennTreebank tags to simple Wordnet tags\n",
    "    \"\"\"\n",
    "    if tag.startswith('J'):\n",
    "        return wn.ADJ\n",
    "    elif tag.startswith('N'):\n",
    "        return wn.NOUN\n",
    "    elif tag.startswith('R'):\n",
    "        return wn.ADV\n",
    "    elif tag.startswith('V'):\n",
    "        return wn.VERB\n",
    "    return None"
   ]
  },
  {
   "cell_type": "code",
   "execution_count": 30,
   "metadata": {},
   "outputs": [],
   "source": [
    "lemmatizer = WordNetLemmatizer()\n",
    "def get_lemas(tokens):\n",
    "    lemmas = []\n",
    "    for token in tokens:\n",
    "        pos = penn_to_wn(pos_tag([token])[0][1])\n",
    "        if pos:\n",
    "            lemma = lemmatizer.lemmatize(token, pos)\n",
    "            if lemma:\n",
    "                lemmas.append(lemma)\n",
    "    return lemmas"
   ]
  },
  {
   "cell_type": "code",
   "execution_count": 31,
   "metadata": {},
   "outputs": [],
   "source": [
    "reviews['lemmas'] = reviews['tb_tokens'].apply(lambda tokens: get_lemas(tokens))"
   ]
  },
  {
   "cell_type": "code",
   "execution_count": 32,
   "metadata": {},
   "outputs": [
    {
     "data": {
      "text/html": [
       "<div>\n",
       "<style scoped>\n",
       "    .dataframe tbody tr th:only-of-type {\n",
       "        vertical-align: middle;\n",
       "    }\n",
       "\n",
       "    .dataframe tbody tr th {\n",
       "        vertical-align: top;\n",
       "    }\n",
       "\n",
       "    .dataframe thead th {\n",
       "        text-align: right;\n",
       "    }\n",
       "</style>\n",
       "<table border=\"1\" class=\"dataframe\">\n",
       "  <thead>\n",
       "    <tr style=\"text-align: right;\">\n",
       "      <th></th>\n",
       "      <th>reviewText</th>\n",
       "      <th>tokens_stemmed</th>\n",
       "      <th>lemmas</th>\n",
       "    </tr>\n",
       "  </thead>\n",
       "  <tbody>\n",
       "    <tr>\n",
       "      <th>411</th>\n",
       "      <td>weast</td>\n",
       "      <td>[weast]</td>\n",
       "      <td>[weast]</td>\n",
       "    </tr>\n",
       "    <tr>\n",
       "      <th>562</th>\n",
       "      <td>I don't own the game but with all these negative reviews just might as well rate it 1 star</td>\n",
       "      <td>[i, dont, own, the, game, but, with, all, these, neg, review, just, might, as, well, rate, it, 1, star]</td>\n",
       "      <td>[i, dont, own, game, negative, review, just, well, rate, star]</td>\n",
       "    </tr>\n",
       "  </tbody>\n",
       "</table>\n",
       "</div>"
      ],
      "text/plain": [
       "                                                                                     reviewText  \\\n",
       "411                                                                                       weast   \n",
       "562  I don't own the game but with all these negative reviews just might as well rate it 1 star   \n",
       "\n",
       "                                                                                              tokens_stemmed  \\\n",
       "411                                                                                                  [weast]   \n",
       "562  [i, dont, own, the, game, but, with, all, these, neg, review, just, might, as, well, rate, it, 1, star]   \n",
       "\n",
       "                                                             lemmas  \n",
       "411                                                         [weast]  \n",
       "562  [i, dont, own, game, negative, review, just, well, rate, star]  "
      ]
     },
     "execution_count": 32,
     "metadata": {},
     "output_type": "execute_result"
    }
   ],
   "source": [
    "reviews[['reviewText','tokens_stemmed','lemmas']].sample(2)"
   ]
  },
  {
   "cell_type": "markdown",
   "metadata": {},
   "source": [
    "### Sentiment Predictor Baseline Model"
   ]
  },
  {
   "cell_type": "code",
   "execution_count": 33,
   "metadata": {},
   "outputs": [],
   "source": [
    "def get_sentiment_score(tokens):\n",
    "    score = 0\n",
    "    tags = pos_tag(tokens)\n",
    "    for word, tag in tags:\n",
    "        wn_tag = penn_to_wn(tag)\n",
    "        if not wn_tag:\n",
    "            continue\n",
    "        synsets = wn.synsets(word, pos=wn_tag)\n",
    "        if not synsets:\n",
    "            continue\n",
    "        \n",
    "        #most common set:\n",
    "        synset = synsets[0]\n",
    "        swn_synset = swn.senti_synset(synset.name())\n",
    "        \n",
    "        score += (swn_synset.pos_score() - swn_synset.neg_score())\n",
    "        \n",
    "    return score\n",
    "                    "
   ]
  },
  {
   "cell_type": "code",
   "execution_count": 35,
   "metadata": {},
   "outputs": [
    {
     "name": "stderr",
     "output_type": "stream",
     "text": [
      "[nltk_data] Downloading package sentiwordnet to\n",
      "[nltk_data]     C:\\Users\\wama\\AppData\\Roaming\\nltk_data...\n",
      "[nltk_data]   Unzipping corpora\\sentiwordnet.zip.\n"
     ]
    },
    {
     "data": {
      "text/plain": [
       "True"
      ]
     },
     "execution_count": 35,
     "metadata": {},
     "output_type": "execute_result"
    }
   ],
   "source": [
    "import nltk\n",
    "nltk.download('sentiwordnet')\n"
   ]
  },
  {
   "cell_type": "code",
   "execution_count": 36,
   "metadata": {},
   "outputs": [
    {
     "data": {
      "text/plain": [
       "0.625"
      ]
     },
     "execution_count": 36,
     "metadata": {},
     "output_type": "execute_result"
    }
   ],
   "source": [
    "## test\n",
    "swn.senti_synset(wn.synsets(\"perfect\", wn.ADJ)[0].name()).pos_score()"
   ]
  },
  {
   "cell_type": "code",
   "execution_count": 37,
   "metadata": {},
   "outputs": [],
   "source": [
    "reviews['sentiment_score'] = reviews['lemmas'].apply(lambda tokens: get_sentiment_score(tokens))"
   ]
  },
  {
   "cell_type": "code",
   "execution_count": 38,
   "metadata": {},
   "outputs": [
    {
     "data": {
      "text/html": [
       "<div>\n",
       "<style scoped>\n",
       "    .dataframe tbody tr th:only-of-type {\n",
       "        vertical-align: middle;\n",
       "    }\n",
       "\n",
       "    .dataframe tbody tr th {\n",
       "        vertical-align: top;\n",
       "    }\n",
       "\n",
       "    .dataframe thead th {\n",
       "        text-align: right;\n",
       "    }\n",
       "</style>\n",
       "<table border=\"1\" class=\"dataframe\">\n",
       "  <thead>\n",
       "    <tr style=\"text-align: right;\">\n",
       "      <th></th>\n",
       "      <th>reviewText</th>\n",
       "      <th>lemmas</th>\n",
       "      <th>sentiment_score</th>\n",
       "    </tr>\n",
       "  </thead>\n",
       "  <tbody>\n",
       "    <tr>\n",
       "      <th>1926</th>\n",
       "      <td>OK, why does Amazon let all the trolls who don't even have the game spam there uninformed opinion here. There are plenty of other formus on the web. This site should be for only for peeps that actually bought the game. With that stated, DO NOT waste your time reading the 1 stars. I didn't try to log on until last night because any moron with half a brain knows that the first day of any major release is going to be hard to connect. I only played for a couple of hours and so far it's a little easy. Playing as a demon hunter/nml. They did dumb it down a little from D2 so it's basically using 2 mouse buttons and the shift button--ranged attacks. The graphics are really good and no lag so far. I looked at the AH but nothing so far (day 1). Good hunting everyone and enjoy the game :}\\n\\nAlso forgot, they had to use DRM and online only because anyone that played D2 should remember how all of the hacks ruined that game. If you don't like it play something else.\\n\\nUPDATE 17 May, Played now for about 9 hours total=big let down. I was hoping that the game would get better but it didn't. Also it was getting a little laggy last night. Not worth $60 so wait until the rush is over and it might be worth buying at $20.\\n\\n13 July UPDATE: OK, ran 2 toons thru inferno and I'm finished. Same grind over and over. I miss the gold old days of the 90's UO. Now that was a game!!</td>\n",
       "      <td>[ok, do, amazon, let, troll, dont, even, have, game, spam, there, uninformed, opinion, here, there, be, plenty, other, formus, web, site, be, only, peep, actually, bought, game, state, do, not, waste, time, reading, star, i, didnt, try, log, last, night, moron, half, brain, know, first, day, major, release, be, go, be, hard, connect, i, only, played, couple, hour, so, far, little, easy, play, demon, hunternml, do, dumb, down, little, d2, so, basically, use, mouse, button, shift, buttonranged, attack, graphic, be, really, good, lag, so, far, i, look, ah, nothing, so, far, day, good, hunt, everyone, enjoy, game, also, forgot, have, ...]</td>\n",
       "      <td>0.888</td>\n",
       "    </tr>\n",
       "    <tr>\n",
       "      <th>3915</th>\n",
       "      <td>Great price disk mint</td>\n",
       "      <td>[great, price, disk, mint]</td>\n",
       "      <td>0.000</td>\n",
       "    </tr>\n",
       "    <tr>\n",
       "      <th>2351</th>\n",
       "      <td>was okay</td>\n",
       "      <td>[be, okay]</td>\n",
       "      <td>0.500</td>\n",
       "    </tr>\n",
       "    <tr>\n",
       "      <th>2129</th>\n",
       "      <td>This is a great keyboard. The feel of the keys took a bit of getting used to at first but I really like it now. The software to control colors, macros, etc is very nice and easy to use.\\n\\nI have played around a bit with the ARX app on my phone. I really like it and hope to see more support for it in the future. Leveraging your phone and touchscreen for the secondary display is a great idea!\\n\\n6mo  update: disappointed at how many keys have lost LEDs.  I'd say roughly 1/3 of the key caps have lost at least 1 of the color so you can't get them to match the others. It started happening after a few months and more and more of them continue to fail over time. Not going to replace them 1:1. Sad for such a high end keyboard.</td>\n",
       "      <td>[be, great, keyboard, feel, key, take, bit, get, use, first, i, really, now, software, control, color, macro, etc, be, very, nice, easy, use, i, have, played, bit, arx, app, phone, i, really, hope, see, more, support, future, leverage, phone, touchscreen, secondary, display, be, great, idea, update, disappointed, many, key, have, lose, led, id, say, roughly, key, cap, have, lose, least, color, so, cant, get, match, others, start, happen, few, month, more, more, continue, fail, time, not, go, replace, sad, such, high, end, keyboard]</td>\n",
       "      <td>-0.125</td>\n",
       "    </tr>\n",
       "    <tr>\n",
       "      <th>1942</th>\n",
       "      <td>While the \"game\" is fun, it's no replacement for a real workout. I found the time between exercises painfully slow... and when you exclude all the talking and prep work and A-button mashing, you only get about 10 minutes of work out of a 30 minute \"workout.\"\\n\\nI got the \"My Fitness Coach\" and it's much more intense than the wii fit. The balance board is basically a gimmick.\\n\\nAfter 6 months of light use on the wii fit, I sold mine on ebay for just about what I paid (wasn't in the mood to price gouge). I was disappointed with it and I STILL don't understand all the hype. It's just not that much fun.</td>\n",
       "      <td>[game, be, fun, replacement, real, workout, i, found, time, exercise, painfully, slow, exclude, talk, prep, work, abutton, mash, only, get, minute, work, minute, workout, i, get, fitness, coach, much, more, intense, wii, fit, balance, board, be, basically, gimmick, month, light, use, wii, fit, i, sell, mine, ebay, just, i, paid, wasnt, mood, price, gouge, i, be, disappointed, i, still, dont, understand, hype, just, not, much, fun]</td>\n",
       "      <td>0.625</td>\n",
       "    </tr>\n",
       "  </tbody>\n",
       "</table>\n",
       "</div>"
      ],
      "text/plain": [
       "                                                                                                                                                                                                                                                                                                                                                                                                                                                                                                                                                                                                                                                                                                                                                                                                                                                                                                                                                                                                                                                                                                                                                                                                                                                                                                                                                                                                                             reviewText  \\\n",
       "1926  OK, why does Amazon let all the trolls who don't even have the game spam there uninformed opinion here. There are plenty of other formus on the web. This site should be for only for peeps that actually bought the game. With that stated, DO NOT waste your time reading the 1 stars. I didn't try to log on until last night because any moron with half a brain knows that the first day of any major release is going to be hard to connect. I only played for a couple of hours and so far it's a little easy. Playing as a demon hunter/nml. They did dumb it down a little from D2 so it's basically using 2 mouse buttons and the shift button--ranged attacks. The graphics are really good and no lag so far. I looked at the AH but nothing so far (day 1). Good hunting everyone and enjoy the game :}\\n\\nAlso forgot, they had to use DRM and online only because anyone that played D2 should remember how all of the hacks ruined that game. If you don't like it play something else.\\n\\nUPDATE 17 May, Played now for about 9 hours total=big let down. I was hoping that the game would get better but it didn't. Also it was getting a little laggy last night. Not worth $60 so wait until the rush is over and it might be worth buying at $20.\\n\\n13 July UPDATE: OK, ran 2 toons thru inferno and I'm finished. Same grind over and over. I miss the gold old days of the 90's UO. Now that was a game!!   \n",
       "3915                                                                                                                                                                                                                                                                                                                                                                                                                                                                                                                                                                                                                                                                                                                                                                                                                                                                                                                                                                                                                                                                                                                                                                                                                                                                                                                                                                                                              Great price disk mint   \n",
       "2351                                                                                                                                                                                                                                                                                                                                                                                                                                                                                                                                                                                                                                                                                                                                                                                                                                                                                                                                                                                                                                                                                                                                                                                                                                                                                                                                                                                                                           was okay   \n",
       "2129                                                                                                                                                                                                                                                                                                                                                                                                                                                                                                                                                                                                                                                                          This is a great keyboard. The feel of the keys took a bit of getting used to at first but I really like it now. The software to control colors, macros, etc is very nice and easy to use.\\n\\nI have played around a bit with the ARX app on my phone. I really like it and hope to see more support for it in the future. Leveraging your phone and touchscreen for the secondary display is a great idea!\\n\\n6mo  update: disappointed at how many keys have lost LEDs.  I'd say roughly 1/3 of the key caps have lost at least 1 of the color so you can't get them to match the others. It started happening after a few months and more and more of them continue to fail over time. Not going to replace them 1:1. Sad for such a high end keyboard.   \n",
       "1942                                                                                                                                                                                                                                                                                                                                                                                                                                                                                                                                                                                                                                                                                                                                                                                                    While the \"game\" is fun, it's no replacement for a real workout. I found the time between exercises painfully slow... and when you exclude all the talking and prep work and A-button mashing, you only get about 10 minutes of work out of a 30 minute \"workout.\"\\n\\nI got the \"My Fitness Coach\" and it's much more intense than the wii fit. The balance board is basically a gimmick.\\n\\nAfter 6 months of light use on the wii fit, I sold mine on ebay for just about what I paid (wasn't in the mood to price gouge). I was disappointed with it and I STILL don't understand all the hype. It's just not that much fun.   \n",
       "\n",
       "                                                                                                                                                                                                                                                                                                                                                                                                                                                                                                                                                                                                                                                                  lemmas  \\\n",
       "1926  [ok, do, amazon, let, troll, dont, even, have, game, spam, there, uninformed, opinion, here, there, be, plenty, other, formus, web, site, be, only, peep, actually, bought, game, state, do, not, waste, time, reading, star, i, didnt, try, log, last, night, moron, half, brain, know, first, day, major, release, be, go, be, hard, connect, i, only, played, couple, hour, so, far, little, easy, play, demon, hunternml, do, dumb, down, little, d2, so, basically, use, mouse, button, shift, buttonranged, attack, graphic, be, really, good, lag, so, far, i, look, ah, nothing, so, far, day, good, hunt, everyone, enjoy, game, also, forgot, have, ...]   \n",
       "3915                                                                                                                                                                                                                                                                                                                                                                                                                                                                                                                                                                                                                                          [great, price, disk, mint]   \n",
       "2351                                                                                                                                                                                                                                                                                                                                                                                                                                                                                                                                                                                                                                                          [be, okay]   \n",
       "2129                                                                                                           [be, great, keyboard, feel, key, take, bit, get, use, first, i, really, now, software, control, color, macro, etc, be, very, nice, easy, use, i, have, played, bit, arx, app, phone, i, really, hope, see, more, support, future, leverage, phone, touchscreen, secondary, display, be, great, idea, update, disappointed, many, key, have, lose, led, id, say, roughly, key, cap, have, lose, least, color, so, cant, get, match, others, start, happen, few, month, more, more, continue, fail, time, not, go, replace, sad, such, high, end, keyboard]   \n",
       "1942                                                                                                                                                                                                                  [game, be, fun, replacement, real, workout, i, found, time, exercise, painfully, slow, exclude, talk, prep, work, abutton, mash, only, get, minute, work, minute, workout, i, get, fitness, coach, much, more, intense, wii, fit, balance, board, be, basically, gimmick, month, light, use, wii, fit, i, sell, mine, ebay, just, i, paid, wasnt, mood, price, gouge, i, be, disappointed, i, still, dont, understand, hype, just, not, much, fun]   \n",
       "\n",
       "      sentiment_score  \n",
       "1926            0.888  \n",
       "3915            0.000  \n",
       "2351            0.500  \n",
       "2129           -0.125  \n",
       "1942            0.625  "
      ]
     },
     "execution_count": 38,
     "metadata": {},
     "output_type": "execute_result"
    }
   ],
   "source": [
    "reviews[['reviewText','lemmas','sentiment_score']].sample(5)"
   ]
  },
  {
   "cell_type": "code",
   "execution_count": 39,
   "metadata": {},
   "outputs": [
    {
     "data": {
      "text/html": [
       "<div>\n",
       "<style scoped>\n",
       "    .dataframe tbody tr th:only-of-type {\n",
       "        vertical-align: middle;\n",
       "    }\n",
       "\n",
       "    .dataframe tbody tr th {\n",
       "        vertical-align: top;\n",
       "    }\n",
       "\n",
       "    .dataframe thead th {\n",
       "        text-align: right;\n",
       "    }\n",
       "</style>\n",
       "<table border=\"1\" class=\"dataframe\">\n",
       "  <thead>\n",
       "    <tr style=\"text-align: right;\">\n",
       "      <th></th>\n",
       "      <th>reviewText</th>\n",
       "      <th>lemmas</th>\n",
       "      <th>sentiment_score</th>\n",
       "    </tr>\n",
       "  </thead>\n",
       "  <tbody>\n",
       "    <tr>\n",
       "      <th>497</th>\n",
       "      <td>1. No english voice overs! Japanese audio only\\n2. Short story mode. 1hr is really being generous.\\n3. 25 characters playable only.\\n4.75 characters are used as battle items with cheap animations.\\n5.feels very lazy, no effort put into the US release. This is a copy paste.\\n6. Gets boring fast. You can only play the limited modes for so long.\\n7. No super saiyan transformations. SS use a separate character slot.\\n8.way over priced. At $30 you get the same game Japanese fans own, the only difference is google translation on somevof the text.\\n9.irritating challenges to unlock all assist characters. Will take a patient person forever and make the others toss it across the room.\\n10. Nothing thorough about the roster,audio,game modes,experience or product. This is a poor copy and past cash grab for the most gullable fan willing to throw money at anything that reads dragonball z. Simply put this isn't 1999 and there is no excuse for such trash.</td>\n",
       "      <td>[english, voice, over, japanese, audio, only, short, story, mode, be, really, be, generous, character, playable, only, character, be, use, battle, item, cheap, animation, 5feels, very, lazy, effort, put, release, be, copy, paste, get, boring, fast, only, play, limited, mode, so, long, super, saiyan, transformation, s, use, separate, character, slot, price, get, same, game, japanese, fan, own, only, difference, be, google, translation, somevof, text, 9irritating, challenge, unlock, assist, character, take, patient, person, forever, make, others, toss, room, nothing, thorough, rosteraudiogame, modesexperience, product, be, poor, copy, past, cash, grab, most, gullable, fan, willing, throw, money, anything, read, dragonball, z, simply, put, isnt, ...]</td>\n",
       "      <td>2.250</td>\n",
       "    </tr>\n",
       "    <tr>\n",
       "      <th>1301</th>\n",
       "      <td>Servers are messed up. Been this way for over a week. Unacceptable.\\nPower of the cloud my ass.</td>\n",
       "      <td>[server, be, mess, up, be, way, week, unacceptable, power, cloud, as]</td>\n",
       "      <td>-0.500</td>\n",
       "    </tr>\n",
       "    <tr>\n",
       "      <th>4002</th>\n",
       "      <td>Came in great condition, just like it said. I did not have any problems. It came in exactly just like it said in the description.</td>\n",
       "      <td>[come, great, condition, just, say, i, do, not, have, problem, come, exactly, just, say, description]</td>\n",
       "      <td>-0.875</td>\n",
       "    </tr>\n",
       "    <tr>\n",
       "      <th>1338</th>\n",
       "      <td>i coudnt standing this game. i played like 15 minutes of it.. its just plain boring.\\ni have no clue why they changed it to 3rd person too.</td>\n",
       "      <td>[i, coudnt, stand, game, i, played, minute, just, plain, boring, i, have, clue, change, person, too]</td>\n",
       "      <td>0.375</td>\n",
       "    </tr>\n",
       "    <tr>\n",
       "      <th>2153</th>\n",
       "      <td>Good-Improved graphics/LOTS of weapons/frequent save points/better music/semi-regenerating health bar/gore/finishing techniques\\n\\nBad-bland environments/glitches and bugs/camera seems to \"fight\" you/low replay value/VERY little unlockable content/enemy AI resorts to cheap tactics\\n\\nThis games combat is its saving grace, its addictive, fun, and satisfying with so many ways to off the opposition. The finishers can really bring out the masochist in you. I'm currently on master ninja having played the 1st 3 difficulties. The enemy AI is really intelligent that they'll adjust to always find the most effective way to take out Ryu, most of the time thats resorting to cheap tactics such as 6 enemies aggressively attacking you up front(2 of them looking for an unblockable throw while the remaining 4 relentlessly executes combos) and the remaining enemies stay in the back throwing shuriken after shuriken that explode. You will constantly be attacked as soon as you walk through a door without even sighting an enemy, constant cheap shots like this along with the camera looking at everything but the action will be more than enough to frustrate the avg. gamer. There is no theater mode/concept art, or anything of that nature upon completing the game. The unlockables include costumes(1 per difficulty) and these are color variants not even new costumes. This game seemed like a rushed product, but even after dying so many times you'll still keep playing because the combat was so well made.</td>\n",
       "      <td>[goodimproved, graphicslots, weaponsfrequent, save, pointsbetter, musicsemiregenerating, health, bargorefinishing, technique, badbland, environmentsglitches, bugscamera, seem, fight, youlow, replay, valuevery, little, unlockable, contentenemy, ai, resort, cheap, tactic, game, combat, be, save, grace, addictive, fun, satisfy, so, many, way, opposition, finisher, really, bring, masochist, im, currently, master, ninja, have, played, difficulty, enemy, ai, be, really, intelligent, theyll, adjust, always, find, most, effective, way, take, ryu, most, time, thats, resort, cheap, tactic, such, enemy, aggressively, attack, up, front2, look, unblockable, throw, remain, relentlessly, executes, combo, remain, enemy, stay, back, throw, shuriken, shuriken, explode, constantly, be, attack, soon, walk, door, even, sight, enemy, constant, cheap, shot, ...]</td>\n",
       "      <td>2.875</td>\n",
       "    </tr>\n",
       "  </tbody>\n",
       "</table>\n",
       "</div>"
      ],
      "text/plain": [
       "                                                                                                                                                                                                                                                                                                                                                                                                                                                                                                                                                                                                                                                                                                                                                                                                                                                                                                                                                                                                                                                                                                                                                                                                                                                                                                                                                                                                                                                                                                                                                      reviewText  \\\n",
       "497                                                                                                                                                                                                                                                                                                                                                                                                                                                                                                                                                                   1. No english voice overs! Japanese audio only\\n2. Short story mode. 1hr is really being generous.\\n3. 25 characters playable only.\\n4.75 characters are used as battle items with cheap animations.\\n5.feels very lazy, no effort put into the US release. This is a copy paste.\\n6. Gets boring fast. You can only play the limited modes for so long.\\n7. No super saiyan transformations. SS use a separate character slot.\\n8.way over priced. At $30 you get the same game Japanese fans own, the only difference is google translation on somevof the text.\\n9.irritating challenges to unlock all assist characters. Will take a patient person forever and make the others toss it across the room.\\n10. Nothing thorough about the roster,audio,game modes,experience or product. This is a poor copy and past cash grab for the most gullable fan willing to throw money at anything that reads dragonball z. Simply put this isn't 1999 and there is no excuse for such trash.   \n",
       "1301                                                                                                                                                                                                                                                                                                                                                                                                                                                                                                                                                                                                                                                                                                                                                                                                                                                                                                                                                                                                                                                                                                                                                                                                                                                                                                                                                                                                                                                             Servers are messed up. Been this way for over a week. Unacceptable.\\nPower of the cloud my ass.   \n",
       "4002                                                                                                                                                                                                                                                                                                                                                                                                                                                                                                                                                                                                                                                                                                                                                                                                                                                                                                                                                                                                                                                                                                                                                                                                                                                                                                                                                                                                                           Came in great condition, just like it said. I did not have any problems. It came in exactly just like it said in the description.   \n",
       "1338                                                                                                                                                                                                                                                                                                                                                                                                                                                                                                                                                                                                                                                                                                                                                                                                                                                                                                                                                                                                                                                                                                                                                                                                                                                                                                                                                                                                                 i coudnt standing this game. i played like 15 minutes of it.. its just plain boring.\\ni have no clue why they changed it to 3rd person too.   \n",
       "2153  Good-Improved graphics/LOTS of weapons/frequent save points/better music/semi-regenerating health bar/gore/finishing techniques\\n\\nBad-bland environments/glitches and bugs/camera seems to \"fight\" you/low replay value/VERY little unlockable content/enemy AI resorts to cheap tactics\\n\\nThis games combat is its saving grace, its addictive, fun, and satisfying with so many ways to off the opposition. The finishers can really bring out the masochist in you. I'm currently on master ninja having played the 1st 3 difficulties. The enemy AI is really intelligent that they'll adjust to always find the most effective way to take out Ryu, most of the time thats resorting to cheap tactics such as 6 enemies aggressively attacking you up front(2 of them looking for an unblockable throw while the remaining 4 relentlessly executes combos) and the remaining enemies stay in the back throwing shuriken after shuriken that explode. You will constantly be attacked as soon as you walk through a door without even sighting an enemy, constant cheap shots like this along with the camera looking at everything but the action will be more than enough to frustrate the avg. gamer. There is no theater mode/concept art, or anything of that nature upon completing the game. The unlockables include costumes(1 per difficulty) and these are color variants not even new costumes. This game seemed like a rushed product, but even after dying so many times you'll still keep playing because the combat was so well made.   \n",
       "\n",
       "                                                                                                                                                                                                                                                                                                                                                                                                                                                                                                                                                                                                                                                                                                                                                                                                                                                                                   lemmas  \\\n",
       "497                                                                                                 [english, voice, over, japanese, audio, only, short, story, mode, be, really, be, generous, character, playable, only, character, be, use, battle, item, cheap, animation, 5feels, very, lazy, effort, put, release, be, copy, paste, get, boring, fast, only, play, limited, mode, so, long, super, saiyan, transformation, s, use, separate, character, slot, price, get, same, game, japanese, fan, own, only, difference, be, google, translation, somevof, text, 9irritating, challenge, unlock, assist, character, take, patient, person, forever, make, others, toss, room, nothing, thorough, rosteraudiogame, modesexperience, product, be, poor, copy, past, cash, grab, most, gullable, fan, willing, throw, money, anything, read, dragonball, z, simply, put, isnt, ...]   \n",
       "1301                                                                                                                                                                                                                                                                                                                                                                                                                                                                                                                                                                                                                                                                                                                                                                                                                [server, be, mess, up, be, way, week, unacceptable, power, cloud, as]   \n",
       "4002                                                                                                                                                                                                                                                                                                                                                                                                                                                                                                                                                                                                                                                                                                                                                                                [come, great, condition, just, say, i, do, not, have, problem, come, exactly, just, say, description]   \n",
       "1338                                                                                                                                                                                                                                                                                                                                                                                                                                                                                                                                                                                                                                                                                                                                                                                 [i, coudnt, stand, game, i, played, minute, just, plain, boring, i, have, clue, change, person, too]   \n",
       "2153  [goodimproved, graphicslots, weaponsfrequent, save, pointsbetter, musicsemiregenerating, health, bargorefinishing, technique, badbland, environmentsglitches, bugscamera, seem, fight, youlow, replay, valuevery, little, unlockable, contentenemy, ai, resort, cheap, tactic, game, combat, be, save, grace, addictive, fun, satisfy, so, many, way, opposition, finisher, really, bring, masochist, im, currently, master, ninja, have, played, difficulty, enemy, ai, be, really, intelligent, theyll, adjust, always, find, most, effective, way, take, ryu, most, time, thats, resort, cheap, tactic, such, enemy, aggressively, attack, up, front2, look, unblockable, throw, remain, relentlessly, executes, combo, remain, enemy, stay, back, throw, shuriken, shuriken, explode, constantly, be, attack, soon, walk, door, even, sight, enemy, constant, cheap, shot, ...]   \n",
       "\n",
       "      sentiment_score  \n",
       "497             2.250  \n",
       "1301           -0.500  \n",
       "4002           -0.875  \n",
       "1338            0.375  \n",
       "2153            2.875  "
      ]
     },
     "execution_count": 39,
     "metadata": {},
     "output_type": "execute_result"
    }
   ],
   "source": [
    "reviews[['reviewText','lemmas','sentiment_score']].sample(5)"
   ]
  },
  {
   "cell_type": "code",
   "execution_count": null,
   "metadata": {},
   "outputs": [],
   "source": []
  }
 ],
 "metadata": {
  "kernelspec": {
   "display_name": "Python 3 (ipykernel)",
   "language": "python",
   "name": "python3"
  },
  "language_info": {
   "codemirror_mode": {
    "name": "ipython",
    "version": 3
   },
   "file_extension": ".py",
   "mimetype": "text/x-python",
   "name": "python",
   "nbconvert_exporter": "python",
   "pygments_lexer": "ipython3",
   "version": "3.11.5"
  }
 },
 "nbformat": 4,
 "nbformat_minor": 4
}
